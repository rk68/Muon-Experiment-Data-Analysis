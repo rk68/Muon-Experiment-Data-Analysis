{
 "cells": [
  {
   "cell_type": "code",
   "execution_count": 2,
   "id": "f9a41760",
   "metadata": {},
   "outputs": [],
   "source": [
    "# Import libraries\n",
    "import pandas as pd\n",
    "import numpy as np\n",
    "import matplotlib.pyplot as plt"
   ]
  },
  {
   "cell_type": "markdown",
   "id": "60eb63e6",
   "metadata": {},
   "source": [
    "# Calibration"
   ]
  },
  {
   "cell_type": "markdown",
   "id": "b28ce416",
   "metadata": {},
   "source": [
    "### Import datasets"
   ]
  },
  {
   "cell_type": "code",
   "execution_count": 3,
   "id": "4b8ec913",
   "metadata": {},
   "outputs": [
    {
     "data": {
      "text/html": [
       "<div>\n",
       "<style scoped>\n",
       "    .dataframe tbody tr th:only-of-type {\n",
       "        vertical-align: middle;\n",
       "    }\n",
       "\n",
       "    .dataframe tbody tr th {\n",
       "        vertical-align: top;\n",
       "    }\n",
       "\n",
       "    .dataframe thead th {\n",
       "        text-align: right;\n",
       "    }\n",
       "</style>\n",
       "<table border=\"1\" class=\"dataframe\">\n",
       "  <thead>\n",
       "    <tr style=\"text-align: right;\">\n",
       "      <th></th>\n",
       "      <th>40000</th>\n",
       "      <th>1666607549</th>\n",
       "    </tr>\n",
       "  </thead>\n",
       "  <tbody>\n",
       "    <tr>\n",
       "      <th>0</th>\n",
       "      <td>40000</td>\n",
       "      <td>1666607550</td>\n",
       "    </tr>\n",
       "    <tr>\n",
       "      <th>1</th>\n",
       "      <td>17380</td>\n",
       "      <td>1666607550</td>\n",
       "    </tr>\n",
       "    <tr>\n",
       "      <th>2</th>\n",
       "      <td>17400</td>\n",
       "      <td>1666607550</td>\n",
       "    </tr>\n",
       "    <tr>\n",
       "      <th>3</th>\n",
       "      <td>17440</td>\n",
       "      <td>1666607550</td>\n",
       "    </tr>\n",
       "    <tr>\n",
       "      <th>4</th>\n",
       "      <td>17380</td>\n",
       "      <td>1666607551</td>\n",
       "    </tr>\n",
       "  </tbody>\n",
       "</table>\n",
       "</div>"
      ],
      "text/plain": [
       "   40000  1666607549\n",
       "0  40000  1666607550\n",
       "1  17380  1666607550\n",
       "2  17400  1666607550\n",
       "3  17440  1666607550\n",
       "4  17380  1666607551"
      ]
     },
     "execution_count": 3,
     "metadata": {},
     "output_type": "execute_result"
    }
   ],
   "source": [
    "# New data for each of the times\n",
    "muondf_25 = pd.read_csv('muon2.5.csv', delimiter=',')\n",
    "muondf_50 = pd.read_csv('muon5.csv', delimiter=',')\n",
    "muondf_75 = pd.read_csv('muon7.5.csv', delimiter=',')\n",
    "muondf_100 = pd.read_csv('muon10.csv', delimiter=',')\n",
    "muondf_125 = pd.read_csv('muon12.5.csv', delimiter=',')\n",
    "muondf_150 = pd.read_csv('muon15.csv', delimiter=',')\n",
    "muondf_175 = pd.read_csv('muon17.5.csv', delimiter=',')\n",
    "muondf_200 = pd.read_csv('muon20.csv', delimiter=',')\n",
    "\n",
    "# array of all\n",
    "muon_dfs_all = [muondf_25, muondf_50, muondf_75, muondf_100, muondf_125, muondf_150, muondf_175, muondf_200]\n",
    "\n",
    "muondf_175.head()"
   ]
  },
  {
   "cell_type": "code",
   "execution_count": 4,
   "id": "cb520ec2",
   "metadata": {},
   "outputs": [
    {
     "data": {
      "text/html": [
       "<div>\n",
       "<style scoped>\n",
       "    .dataframe tbody tr th:only-of-type {\n",
       "        vertical-align: middle;\n",
       "    }\n",
       "\n",
       "    .dataframe tbody tr th {\n",
       "        vertical-align: top;\n",
       "    }\n",
       "\n",
       "    .dataframe thead th {\n",
       "        text-align: right;\n",
       "    }\n",
       "</style>\n",
       "<table border=\"1\" class=\"dataframe\">\n",
       "  <thead>\n",
       "    <tr style=\"text-align: right;\">\n",
       "      <th></th>\n",
       "      <th>40000</th>\n",
       "      <th>1666611857</th>\n",
       "    </tr>\n",
       "  </thead>\n",
       "  <tbody>\n",
       "    <tr>\n",
       "      <th>0</th>\n",
       "      <td>40000</td>\n",
       "      <td>1666611858</td>\n",
       "    </tr>\n",
       "    <tr>\n",
       "      <th>1</th>\n",
       "      <td>560</td>\n",
       "      <td>1666611858</td>\n",
       "    </tr>\n",
       "    <tr>\n",
       "      <th>2</th>\n",
       "      <td>260</td>\n",
       "      <td>1666611858</td>\n",
       "    </tr>\n",
       "    <tr>\n",
       "      <th>3</th>\n",
       "      <td>560</td>\n",
       "      <td>1666611858</td>\n",
       "    </tr>\n",
       "    <tr>\n",
       "      <th>4</th>\n",
       "      <td>900</td>\n",
       "      <td>1666611858</td>\n",
       "    </tr>\n",
       "  </tbody>\n",
       "</table>\n",
       "</div>"
      ],
      "text/plain": [
       "   40000  1666611857\n",
       "0  40000  1666611858\n",
       "1    560  1666611858\n",
       "2    260  1666611858\n",
       "3    560  1666611858\n",
       "4    900  1666611858"
      ]
     },
     "execution_count": 4,
     "metadata": {},
     "output_type": "execute_result"
    }
   ],
   "source": [
    "muondf = pd.read_csv('muon_data.csv', delimiter=' ')\n",
    "muondf.head()"
   ]
  },
  {
   "cell_type": "markdown",
   "id": "867da1e8",
   "metadata": {},
   "source": [
    "### Clean data\n",
    "\n",
    "Drop values above 40,000 - attributed to lack of second pulse - so no muon lifetime measured in these cases."
   ]
  },
  {
   "cell_type": "code",
   "execution_count": 5,
   "id": "20a10f3e",
   "metadata": {},
   "outputs": [],
   "source": [
    "# drop values above 40k for lifetime in all:\n",
    "for i in range(len(muon_dfs_all)):\n",
    "    muon_dfs_all[i].head()\n",
    "    muon_dfs_all[i].columns=['Muon Lifetime (ns)', 'Time since beginning (ns)']\n",
    "    muon_dfs_all[i].drop(muon_dfs_all[i].index[muon_dfs_all[i]['Muon Lifetime (ns)'] >= 40000], inplace=True)\n",
    "\n",
    "    "
   ]
  },
  {
   "cell_type": "markdown",
   "id": "a128810b",
   "metadata": {},
   "source": [
    "Calculate the mean lifetimes for each set of data. (Mean FPGA Timer readings)"
   ]
  },
  {
   "cell_type": "code",
   "execution_count": 6,
   "id": "356baa94",
   "metadata": {},
   "outputs": [
    {
     "name": "stdout",
     "output_type": "stream",
     "text": [
      "[ 2343.45279118  5019.93048314  7453.71169916  9773.24801107\n",
      " 12439.7587039  14909.7799511  17411.76511226 19974.0848991 ]\n",
      "[ 7.77579288  7.6243994   9.48028233 13.88286609 13.82939265 11.18676606\n",
      " 23.16134535 14.94674715]\n"
     ]
    }
   ],
   "source": [
    "# Calculate the mean lifetimes\n",
    "means =[]\n",
    "stdevs = []\n",
    "\n",
    "for i in range(len(muon_dfs_all)):\n",
    "    this_mean = muon_dfs_all[i]['Muon Lifetime (ns)'].mean()\n",
    "    means.append(this_mean)\n",
    "    \n",
    "    this_stdev = muon_dfs_all[i]['Muon Lifetime (ns)'].std()\n",
    "    stdevs.append(this_stdev)\n",
    "    \n",
    "    \n",
    "means = np.array(means)\n",
    "stdevs = np.array(stdevs)\n",
    "print(means)\n",
    "print(stdevs)\n",
    "\n",
    "    \n",
    "    "
   ]
  },
  {
   "cell_type": "markdown",
   "id": "526a6342",
   "metadata": {},
   "source": [
    "### Perform a linear fit\n",
    "\n",
    "Linear fit on the data using NumPy Polyfit function"
   ]
  },
  {
   "cell_type": "code",
   "execution_count": 8,
   "id": "43270160",
   "metadata": {},
   "outputs": [
    {
     "name": "stdout",
     "output_type": "stream",
     "text": [
      "1.0019443492840656\n",
      "y = (1.00±0.01)x + (-110.0±60.0)\n"
     ]
    }
   ],
   "source": [
    "# Array\n",
    "arr = np.array([2500, 5000, 7500, 10000, 12500, 15000, 17500, 20000])\n",
    "x = np.linspace(0,20000,100)\n",
    "\n",
    "# poly fit, linear\n",
    "fit, cov = np.polyfit(arr, means, 1, cov=True)\n",
    "\n",
    "# Y-vals\n",
    "y = fit[0] * x + fit[1]\n",
    "print(fit[0])\n",
    "\n",
    "# Uncertainties from Covariance Matrix\n",
    "unc = np.sqrt(np.diag(cov))\n",
    "\n",
    "# Output\n",
    "print(f'y = ({fit[0] :.2f}±{unc[0] :.2f})x + ({round(fit[1], -1)}±{round(unc[1], -1)})')\n",
    "\n",
    "\n",
    "\n",
    "\n",
    "\n"
   ]
  },
  {
   "cell_type": "markdown",
   "id": "5f56b823",
   "metadata": {},
   "source": [
    "### Plot the data"
   ]
  },
  {
   "cell_type": "code",
   "execution_count": 9,
   "id": "20744f21",
   "metadata": {},
   "outputs": [
    {
     "name": "stdout",
     "output_type": "stream",
     "text": [
      "Note: error bars too small to see\n",
      "Error values: [ 7.77579288  7.6243994   9.48028233 13.88286609 13.82939265 11.18676606\n",
      " 23.16134535 14.94674715]\n",
      "y = (1.00±0.01)x + (-110.0±60.0)\n"
     ]
    },
    {
     "data": {
      "image/png": "[encoded data removed]",
      "text/plain": [
       "<Figure size 720x576 with 1 Axes>"
      ]
     },
     "metadata": {
      "needs_background": "light"
     },
     "output_type": "display_data"
    }
   ],
   "source": [
    "plt.figure(figsize=(10,8))\n",
    "plt.title('Mean observed lifetimes vs expected lifetimes (High Voltage)', fontsize=20)\n",
    "plt.errorbar(arr, means, yerr=stdevs, fmt='o', label='Data', capsize=2)\n",
    "plt.plot(x,y,'-', )\n",
    "plt.xlabel('Expected lifetimes (ns)', fontsize=15)\n",
    "plt.ylabel('Mean observed lifetimes (ns)', fontsize=15)\n",
    "plt.grid()\n",
    "plt.legend(fontsize=15)\n",
    "\n",
    "print('Note: error bars too small to see')\n",
    "print(f'Error values: {stdevs}')\n",
    "print(f'y = ({fit[0] :.2f}±{unc[0] :.2f})x + ({round(fit[1], -1)}±{round(unc[1], -1)})')\n"
   ]
  },
  {
   "cell_type": "code",
   "execution_count": 11,
   "id": "bde5bac4",
   "metadata": {},
   "outputs": [
    {
     "data": {
      "text/html": [
       "<div>\n",
       "<style scoped>\n",
       "    .dataframe tbody tr th:only-of-type {\n",
       "        vertical-align: middle;\n",
       "    }\n",
       "\n",
       "    .dataframe tbody tr th {\n",
       "        vertical-align: top;\n",
       "    }\n",
       "\n",
       "    .dataframe thead th {\n",
       "        text-align: right;\n",
       "    }\n",
       "</style>\n",
       "<table border=\"1\" class=\"dataframe\">\n",
       "  <thead>\n",
       "    <tr style=\"text-align: right;\">\n",
       "      <th></th>\n",
       "      <th>40000</th>\n",
       "      <th>1666611857</th>\n",
       "    </tr>\n",
       "  </thead>\n",
       "  <tbody>\n",
       "    <tr>\n",
       "      <th>0</th>\n",
       "      <td>40000</td>\n",
       "      <td>1666611858</td>\n",
       "    </tr>\n",
       "    <tr>\n",
       "      <th>1</th>\n",
       "      <td>560</td>\n",
       "      <td>1666611858</td>\n",
       "    </tr>\n",
       "    <tr>\n",
       "      <th>2</th>\n",
       "      <td>260</td>\n",
       "      <td>1666611858</td>\n",
       "    </tr>\n",
       "    <tr>\n",
       "      <th>3</th>\n",
       "      <td>560</td>\n",
       "      <td>1666611858</td>\n",
       "    </tr>\n",
       "    <tr>\n",
       "      <th>4</th>\n",
       "      <td>900</td>\n",
       "      <td>1666611858</td>\n",
       "    </tr>\n",
       "  </tbody>\n",
       "</table>\n",
       "</div>"
      ],
      "text/plain": [
       "   40000  1666611857\n",
       "0  40000  1666611858\n",
       "1    560  1666611858\n",
       "2    260  1666611858\n",
       "3    560  1666611858\n",
       "4    900  1666611858"
      ]
     },
     "execution_count": 11,
     "metadata": {},
     "output_type": "execute_result"
    }
   ],
   "source": [
    "muondf.head()"
   ]
  },
  {
   "cell_type": "markdown",
   "id": "38c1945f",
   "metadata": {},
   "source": [
    "### Import the low voltage datasets"
   ]
  },
  {
   "cell_type": "code",
   "execution_count": 15,
   "id": "038e6d44",
   "metadata": {},
   "outputs": [],
   "source": [
    "# low voltage data\n",
    "\n",
    "microsec05 = pd.read_table('0.5 microsec.data', delimiter=' ')\n",
    "microsec10 = pd.read_table('1 microsec.data', delimiter=' ')\n",
    "microsec15 = pd.read_table('1.5 microsec.data', delimiter=' ')\n",
    "microsec20 = pd.read_table('2 microsec.data', delimiter=' ')\n",
    "microsec25 = pd.read_table('2.5 microsec.data', delimiter=' ')\n",
    "microsec50 = pd.read_table('5 microsec.data', delimiter=' ')\n",
    "microsec75 = pd.read_table('7.5 microsec.data', delimiter=' ')\n",
    "microsec100 = pd.read_table('10 microsec.data', delimiter=' ')\n",
    "microsec125 = pd.read_table('12.5 microsec.data', delimiter=' ')\n",
    "microsec150 = pd.read_table('15 microsec.data', delimiter=' ')\n",
    "microsec175 = pd.read_table('17.5 microsec.data', delimiter=' ')\n",
    "microsec200 = pd.read_table('20 microsec.data', delimiter=' ')"
   ]
  },
  {
   "cell_type": "code",
   "execution_count": 16,
   "id": "c055958c",
   "metadata": {},
   "outputs": [
    {
     "data": {
      "text/html": [
       "<div>\n",
       "<style scoped>\n",
       "    .dataframe tbody tr th:only-of-type {\n",
       "        vertical-align: middle;\n",
       "    }\n",
       "\n",
       "    .dataframe tbody tr th {\n",
       "        vertical-align: top;\n",
       "    }\n",
       "\n",
       "    .dataframe thead th {\n",
       "        text-align: right;\n",
       "    }\n",
       "</style>\n",
       "<table border=\"1\" class=\"dataframe\">\n",
       "  <thead>\n",
       "    <tr style=\"text-align: right;\">\n",
       "      <th></th>\n",
       "      <th>40000</th>\n",
       "      <th>1667218154</th>\n",
       "    </tr>\n",
       "  </thead>\n",
       "  <tbody>\n",
       "    <tr>\n",
       "      <th>0</th>\n",
       "      <td>40000</td>\n",
       "      <td>1667218155</td>\n",
       "    </tr>\n",
       "    <tr>\n",
       "      <th>1</th>\n",
       "      <td>4860</td>\n",
       "      <td>1667218155</td>\n",
       "    </tr>\n",
       "    <tr>\n",
       "      <th>2</th>\n",
       "      <td>4840</td>\n",
       "      <td>1667218155</td>\n",
       "    </tr>\n",
       "    <tr>\n",
       "      <th>3</th>\n",
       "      <td>4840</td>\n",
       "      <td>1667218155</td>\n",
       "    </tr>\n",
       "    <tr>\n",
       "      <th>4</th>\n",
       "      <td>4840</td>\n",
       "      <td>1667218155</td>\n",
       "    </tr>\n",
       "    <tr>\n",
       "      <th>...</th>\n",
       "      <td>...</td>\n",
       "      <td>...</td>\n",
       "    </tr>\n",
       "    <tr>\n",
       "      <th>95</th>\n",
       "      <td>4820</td>\n",
       "      <td>1667218156</td>\n",
       "    </tr>\n",
       "    <tr>\n",
       "      <th>96</th>\n",
       "      <td>4820</td>\n",
       "      <td>1667218156</td>\n",
       "    </tr>\n",
       "    <tr>\n",
       "      <th>97</th>\n",
       "      <td>40099</td>\n",
       "      <td>1667218156</td>\n",
       "    </tr>\n",
       "    <tr>\n",
       "      <th>98</th>\n",
       "      <td>4840</td>\n",
       "      <td>1667218156</td>\n",
       "    </tr>\n",
       "    <tr>\n",
       "      <th>99</th>\n",
       "      <td>4840</td>\n",
       "      <td>1667218156</td>\n",
       "    </tr>\n",
       "  </tbody>\n",
       "</table>\n",
       "<p>100 rows × 2 columns</p>\n",
       "</div>"
      ],
      "text/plain": [
       "    40000  1667218154\n",
       "0   40000  1667218155\n",
       "1    4860  1667218155\n",
       "2    4840  1667218155\n",
       "3    4840  1667218155\n",
       "4    4840  1667218155\n",
       "..    ...         ...\n",
       "95   4820  1667218156\n",
       "96   4820  1667218156\n",
       "97  40099  1667218156\n",
       "98   4840  1667218156\n",
       "99   4840  1667218156\n",
       "\n",
       "[100 rows x 2 columns]"
      ]
     },
     "execution_count": 16,
     "metadata": {},
     "output_type": "execute_result"
    }
   ],
   "source": [
    "microsec50.head(100)"
   ]
  },
  {
   "cell_type": "code",
   "execution_count": 17,
   "id": "0bd17fe9",
   "metadata": {},
   "outputs": [],
   "source": [
    "high_dfs = [microsec05, microsec10, microsec15, microsec20, microsec25, microsec50, microsec75, microsec100, microsec125, microsec150, microsec175, microsec200]"
   ]
  },
  {
   "cell_type": "markdown",
   "id": "15fa0747",
   "metadata": {},
   "source": [
    "### Function for data cleaning"
   ]
  },
  {
   "cell_type": "code",
   "execution_count": 18,
   "id": "e22984b4",
   "metadata": {},
   "outputs": [],
   "source": [
    "# drop values above 40k for lifetime in all:\n",
    "\n",
    "def cleandata1(array_of_dfs):\n",
    "    \n",
    "    for i in range(len(array_of_dfs)):\n",
    "        array_of_dfs[i].head()\n",
    "        array_of_dfs[i] = array_of_dfs[i]\n",
    "        array_of_dfs[i].columns=['Muon Lifetime (μs)', 'Time since beginning (μs)']\n",
    "        array_of_dfs[i].drop(array_of_dfs[i].index[array_of_dfs[i]['Muon Lifetime (μs)'] >= 40000], inplace=True)\n",
    "        array_of_dfs[i]['Time since beginning (μs)'] = array_of_dfs[i]['Time since beginning (μs)'] \n",
    "        array_of_dfs[i]['Muon Lifetime (μs)'] = array_of_dfs[i]['Muon Lifetime (μs)'] / 1000\n",
    "        \n",
    "        \n",
    "        \n",
    "    return array_of_dfs\n",
    "\n",
    "\n",
    "def cleandata(df):\n",
    "    df.head()\n",
    "    df.columns=['Muon Lifetime (μs)', 'Time since beginning (μs)']\n",
    "    df.drop(df.index[df['Muon Lifetime (μs)'] >= 40000], inplace=True)\n",
    "    df['Time since beginning (μs)'] = df['Time since beginning (μs)'] \n",
    "    df['Muon Lifetime (μs)'] = df['Muon Lifetime (μs)'] / 1000\n",
    "    \n",
    "    return df\n",
    "    "
   ]
  },
  {
   "cell_type": "code",
   "execution_count": 19,
   "id": "2efe985f",
   "metadata": {},
   "outputs": [
    {
     "data": {
      "text/plain": [
       "[      Muon Lifetime (μs)  Time since beginning (μs)\n",
       " 1                   0.56                 1667217637\n",
       " 2                   0.58                 1667217637\n",
       " 3                   0.58                 1667217637\n",
       " 4                   0.58                 1667217637\n",
       " 5                   0.58                 1667217637\n",
       " ...                  ...                        ...\n",
       " 2705                0.56                 1667217664\n",
       " 2706                0.58                 1667217664\n",
       " 2707                0.58                 1667217664\n",
       " 2708                0.58                 1667217664\n",
       " 2709                0.58                 1667217664\n",
       " \n",
       " [2682 rows x 2 columns],\n",
       "       Muon Lifetime (μs)  Time since beginning (μs)\n",
       " 1                   0.98                 1667217862\n",
       " 2                   0.98                 1667217862\n",
       " 3                   1.00                 1667217862\n",
       " 4                   0.98                 1667217862\n",
       " 5                   0.98                 1667217862\n",
       " ...                  ...                        ...\n",
       " 2815                1.00                 1667217890\n",
       " 2816                0.98                 1667217890\n",
       " 2817                1.00                 1667217890\n",
       " 2818                0.98                 1667217890\n",
       " 2819                0.98                 1667217890\n",
       " \n",
       " [2791 rows x 2 columns],\n",
       "       Muon Lifetime (μs)  Time since beginning (μs)\n",
       " 1                   1.50                 1667217933\n",
       " 2                   1.50                 1667217933\n",
       " 3                   1.52                 1667217933\n",
       " 4                   1.50                 1667217933\n",
       " 5                   1.50                 1667217933\n",
       " ...                  ...                        ...\n",
       " 2785                1.50                 1667217961\n",
       " 2786                1.50                 1667217961\n",
       " 2787                1.50                 1667217962\n",
       " 2788                1.50                 1667217962\n",
       " 2789                1.50                 1667217962\n",
       " \n",
       " [2761 rows x 2 columns],\n",
       "       Muon Lifetime (μs)  Time since beginning (μs)\n",
       " 1                   1.96                 1667218011\n",
       " 2                   1.96                 1667218011\n",
       " 3                   1.94                 1667218011\n",
       " 4                   1.96                 1667218011\n",
       " 5                   1.96                 1667218011\n",
       " ...                  ...                        ...\n",
       " 2803                1.94                 1667218039\n",
       " 2804                1.94                 1667218039\n",
       " 2805                1.96                 1667218039\n",
       " 2806                1.96                 1667218039\n",
       " 2807                1.96                 1667218039\n",
       " \n",
       " [2779 rows x 2 columns],\n",
       "       Muon Lifetime (μs)  Time since beginning (μs)\n",
       " 1                    2.5                 1667218081\n",
       " 2                    2.5                 1667218081\n",
       " 3                    2.5                 1667218081\n",
       " 4                    2.5                 1667218081\n",
       " 5                    2.5                 1667218081\n",
       " ...                  ...                        ...\n",
       " 2819                 2.5                 1667218109\n",
       " 2820                 2.5                 1667218109\n",
       " 2821                 2.5                 1667218109\n",
       " 2822                 2.5                 1667218109\n",
       " 2823                 2.5                 1667218109\n",
       " \n",
       " [2795 rows x 2 columns],\n",
       "       Muon Lifetime (μs)  Time since beginning (μs)\n",
       " 1                   4.86                 1667218155\n",
       " 2                   4.84                 1667218155\n",
       " 3                   4.84                 1667218155\n",
       " 4                   4.84                 1667218155\n",
       " 5                   4.84                 1667218155\n",
       " ...                  ...                        ...\n",
       " 2817                4.84                 1667218184\n",
       " 2818                4.84                 1667218184\n",
       " 2819                4.84                 1667218184\n",
       " 2820                4.84                 1667218184\n",
       " 2821                4.82                 1667218184\n",
       " \n",
       " [2793 rows x 2 columns],\n",
       "       Muon Lifetime (μs)  Time since beginning (μs)\n",
       " 1                   7.36                 1667218210\n",
       " 2                   7.36                 1667218210\n",
       " 3                   7.36                 1667218210\n",
       " 4                   7.38                 1667218210\n",
       " 5                   7.36                 1667218210\n",
       " ...                  ...                        ...\n",
       " 2812                7.36                 1667218238\n",
       " 2813                7.38                 1667218238\n",
       " 2814                7.36                 1667218238\n",
       " 2815                7.36                 1667218238\n",
       " 2816                7.36                 1667218238\n",
       " \n",
       " [2788 rows x 2 columns],\n",
       "       Muon Lifetime (μs)  Time since beginning (μs)\n",
       " 1                   9.92                 1667218273\n",
       " 2                   9.92                 1667218273\n",
       " 3                   9.92                 1667218273\n",
       " 4                   9.94                 1667218273\n",
       " 5                   9.94                 1667218273\n",
       " ...                  ...                        ...\n",
       " 2785                9.94                 1667218301\n",
       " 2786                9.90                 1667218301\n",
       " 2787                9.94                 1667218301\n",
       " 2788                9.90                 1667218301\n",
       " 2789                9.92                 1667218301\n",
       " \n",
       " [2761 rows x 2 columns],\n",
       "       Muon Lifetime (μs)  Time since beginning (μs)\n",
       " 1                  12.70                 1667218341\n",
       " 2                  12.68                 1667218341\n",
       " 3                  12.68                 1667218341\n",
       " 4                  12.68                 1667218341\n",
       " 5                  12.68                 1667218341\n",
       " ...                  ...                        ...\n",
       " 2811               12.70                 1667218370\n",
       " 2812               12.66                 1667218370\n",
       " 2813               12.68                 1667218370\n",
       " 2814               12.68                 1667218370\n",
       " 2815               12.70                 1667218370\n",
       " \n",
       " [2787 rows x 2 columns],\n",
       "       Muon Lifetime (μs)  Time since beginning (μs)\n",
       " 1                  15.18                 1667218406\n",
       " 2                  15.18                 1667218406\n",
       " 3                  15.20                 1667218406\n",
       " 4                  15.18                 1667218406\n",
       " 5                  15.18                 1667218406\n",
       " ...                  ...                        ...\n",
       " 2908               15.18                 1667218435\n",
       " 2909               15.18                 1667218435\n",
       " 2910               15.18                 1667218435\n",
       " 2911               15.16                 1667218435\n",
       " 2912               15.18                 1667218435\n",
       " \n",
       " [2883 rows x 2 columns],\n",
       "       Muon Lifetime (μs)  Time since beginning (μs)\n",
       " 1                  17.30                 1667218491\n",
       " 2                  17.34                 1667218491\n",
       " 3                  17.34                 1667218491\n",
       " 4                  17.34                 1667218491\n",
       " 5                  17.34                 1667218491\n",
       " ...                  ...                        ...\n",
       " 2844               17.30                 1667218520\n",
       " 2845               17.28                 1667218520\n",
       " 2846               17.32                 1667218520\n",
       " 2847               17.34                 1667218520\n",
       " 2848               17.34                 1667218520\n",
       " \n",
       " [2820 rows x 2 columns],\n",
       "       Muon Lifetime (μs)  Time since beginning (μs)\n",
       " 1                  19.94                 1667218553\n",
       " 2                  19.92                 1667218553\n",
       " 3                  19.92                 1667218553\n",
       " 4                  19.92                 1667218553\n",
       " 5                  19.94                 1667218553\n",
       " ...                  ...                        ...\n",
       " 2856               19.92                 1667218582\n",
       " 2857               19.92                 1667218582\n",
       " 2858               19.92                 1667218582\n",
       " 2859               19.92                 1667218582\n",
       " 2860               19.92                 1667218582\n",
       " \n",
       " [2832 rows x 2 columns]]"
      ]
     },
     "execution_count": 19,
     "metadata": {},
     "output_type": "execute_result"
    }
   ],
   "source": [
    "cleandata1(high_dfs)"
   ]
  },
  {
   "cell_type": "markdown",
   "id": "d015c634",
   "metadata": {},
   "source": [
    "### Calculate averages and standard deviation\n",
    "\n",
    "Calculate the averages and respective standard deviations of the mean (for use as uncertainty in certain cases e.g. when it is the highest available uncertainty)"
   ]
  },
  {
   "cell_type": "code",
   "execution_count": 20,
   "id": "901428ef",
   "metadata": {},
   "outputs": [],
   "source": [
    "def averages_and_stuff(array_of_dfs):\n",
    "    \n",
    "    means =[]\n",
    "    stdevs = []\n",
    "\n",
    "    for i in range(len(array_of_dfs)):\n",
    "        this_mean = array_of_dfs[i]['Muon Lifetime (μs)'].mean()\n",
    "        means.append(this_mean)\n",
    "\n",
    "        this_stdev = array_of_dfs[i]['Muon Lifetime (μs)'].std()\n",
    "        stdevs.append(this_stdev)\n",
    "\n",
    "\n",
    "    means = np.array(means)\n",
    "    stdevs = np.array(stdevs)\n",
    "    \n",
    "    return means, stdevs\n",
    "    "
   ]
  },
  {
   "cell_type": "code",
   "execution_count": 21,
   "id": "12d73f56",
   "metadata": {},
   "outputs": [
    {
     "name": "stdout",
     "output_type": "stream",
     "text": [
      "[ 0.5735123   0.99266929  1.50396233  1.94930551  2.49933453  4.8353097\n",
      "  7.36261119  9.92005071 12.68797991 15.17693375 17.32516312 19.9284887 ] [0.00936464 0.00963889 0.00797305 0.00997765 0.04604611 0.00852598\n",
      " 0.00703139 0.01282537 0.01014126 0.28156207 0.01781248 0.01071007]\n"
     ]
    }
   ],
   "source": [
    "means_high, stdevs_high = averages_and_stuff(high_dfs)\n",
    "expected = np.array([500, 1000, 1500, 2000, 2500, 5000, 7500, 10000, 12500, 15000, 17500, 20000])/1000\n",
    "\n",
    "print(means_high, stdevs_high)"
   ]
  },
  {
   "cell_type": "markdown",
   "id": "1e39be30",
   "metadata": {},
   "source": [
    "### Linear fit\n",
    "\n",
    "Perform a linear fit on the data sets. Purpose of this is to check if the FPGA timer is working correctly and is calibrated. Expectation is a perfect linear fit, which would show that there is a direct 1-1 (y = x) relationship between the oscilloscope timer readings and the FPGA timer readings."
   ]
  },
  {
   "cell_type": "code",
   "execution_count": 22,
   "id": "27c0d311",
   "metadata": {},
   "outputs": [
    {
     "name": "stdout",
     "output_type": "stream",
     "text": [
      "0.9994907423339537\n",
      "y = (1.00±0.01)x + (-0.02±64.31)\n"
     ]
    }
   ],
   "source": [
    "x = np.linspace(0,20,100)\n",
    "# poly fit, linear\n",
    "fit, cov = np.polyfit(expected, means_high, 1, cov=True)\n",
    "#print(fit)\n",
    "\n",
    "y = fit[0] * x + fit[1]\n",
    "\n",
    "print(fit[0])\n",
    "\n",
    "\n",
    "print(f'y = ({fit[0] :.2f}±{unc[0] :.2f})x + ({round(fit[1], 2)}±{round(unc[1], 2)})')\n",
    "unc = np.sqrt(np.diag(cov))\n",
    "\n",
    "\n",
    "xerror = np.ones(len(expected))*1\n",
    "yerror = np.ones(len(means_high)) *0.7\n",
    "\n",
    "root_N = np.sqrt(len(means_high))\n"
   ]
  },
  {
   "cell_type": "code",
   "execution_count": 80,
   "id": "56e3ca90",
   "metadata": {},
   "outputs": [
    {
     "name": "stdout",
     "output_type": "stream",
     "text": [
      "Note: error bars too small to see\n",
      "x-value errors: 0.7 (1 d.p.)\n",
      "y-value errors: [0.01 0.01 0.01 0.01 0.05 0.01 0.01 0.01 0.01 0.28 0.02 0.01]\n",
      "y = (1.00±0.01)x + (-0.02±0.06)\n"
     ]
    },
    {
     "data": {
      "image/png": "[encoded data removed]",
      "text/plain": [
       "<Figure size 720x720 with 1 Axes>"
      ]
     },
     "metadata": {
      "needs_background": "light"
     },
     "output_type": "display_data"
    }
   ],
   "source": [
    "plt.figure(figsize=(10,10))\n",
    "plt.title('Oscilloscope time between pulses against FPGA mean time between pulses', fontsize=18)\n",
    "plt.errorbar(y=expected, x=means_high, xerr=0.01,yerr=xerror, fmt='.', label='Data', capsize=4)\n",
    "plt.plot(y,x,'-', label='Linear Fit')\n",
    "plt.ylabel('Time measured by oscilloscope (μs)', fontsize=17)\n",
    "plt.xlabel('Mean time measured by FPGA timer (μs)', fontsize=17)\n",
    "plt.grid()\n",
    "plt.yticks(fontsize=15)\n",
    "plt.xticks(fontsize=15)\n",
    "plt.legend(fontsize=15)\n",
    "\n",
    "print('Note: error bars too small to see')\n",
    "print(f'x-value errors: 0.7 (1 d.p.)')\n",
    "print(f'y-value errors: {np.round(stdevs_high,2)}')\n",
    "print(f'y = ({fit[0] :.2f}±{unc[0] :.2f})x + ({round(fit[1], 2)}±{round(unc[1], 2)})')"
   ]
  },
  {
   "cell_type": "markdown",
   "id": "fb826655",
   "metadata": {},
   "source": [
    "Error bars from the resolution of the oscilloscope timer, propagated accordingly. There was 1 anomalous error bar for the FPGA timer (standard deviation was skewed by a noisy result) - which has since been removed."
   ]
  },
  {
   "cell_type": "markdown",
   "id": "ddf052d4",
   "metadata": {},
   "source": [
    "### Chi-Squared values"
   ]
  },
  {
   "cell_type": "code",
   "execution_count": 23,
   "id": "89c7d5a3",
   "metadata": {},
   "outputs": [
    {
     "name": "stdout",
     "output_type": "stream",
     "text": [
      "[0.00936464 0.00963889 0.00797305 0.00997765 0.04604611 0.00852598\n",
      " 0.00703139 0.01282537 0.01014126 0.28156207 0.01781248 0.01071007]\n",
      "0.17796681630767291\n",
      "0.08898340815383646\n"
     ]
    }
   ],
   "source": [
    "from scipy.stats import chisquare\n",
    "\n",
    "# Fit\n",
    "y_here = fit[0] * means_high + fit[1]\n",
    "print(stdevs_high)\n",
    "\n",
    "# Chi squared\n",
    "Chi_sqr = np.sum((y_here - expected)**2/xerror**2)\n",
    "\n",
    "# Values\n",
    "print(Chi_sqr)\n",
    "print(Chi_sqr/2)"
   ]
  },
  {
   "cell_type": "markdown",
   "id": "defc40ee",
   "metadata": {},
   "source": [
    "# Muon Data Trial Run"
   ]
  },
  {
   "cell_type": "code",
   "execution_count": 84,
   "id": "00900203",
   "metadata": {
    "scrolled": true
   },
   "outputs": [],
   "source": [
    "muondf_trial1 = pd.read_table('test trial one.data', delimiter=' ')"
   ]
  },
  {
   "cell_type": "code",
   "execution_count": 83,
   "id": "dfb412bc",
   "metadata": {},
   "outputs": [
    {
     "data": {
      "text/html": [
       "<div>\n",
       "<style scoped>\n",
       "    .dataframe tbody tr th:only-of-type {\n",
       "        vertical-align: middle;\n",
       "    }\n",
       "\n",
       "    .dataframe tbody tr th {\n",
       "        vertical-align: top;\n",
       "    }\n",
       "\n",
       "    .dataframe thead th {\n",
       "        text-align: right;\n",
       "    }\n",
       "</style>\n",
       "<table border=\"1\" class=\"dataframe\">\n",
       "  <thead>\n",
       "    <tr style=\"text-align: right;\">\n",
       "      <th></th>\n",
       "      <th>40000</th>\n",
       "      <th>1667235506</th>\n",
       "    </tr>\n",
       "  </thead>\n",
       "  <tbody>\n",
       "    <tr>\n",
       "      <th>0</th>\n",
       "      <td>40000</td>\n",
       "      <td>1667235507</td>\n",
       "    </tr>\n",
       "    <tr>\n",
       "      <th>1</th>\n",
       "      <td>20</td>\n",
       "      <td>1667235507</td>\n",
       "    </tr>\n",
       "    <tr>\n",
       "      <th>2</th>\n",
       "      <td>20</td>\n",
       "      <td>1667235508</td>\n",
       "    </tr>\n",
       "    <tr>\n",
       "      <th>3</th>\n",
       "      <td>20</td>\n",
       "      <td>1667235508</td>\n",
       "    </tr>\n",
       "    <tr>\n",
       "      <th>4</th>\n",
       "      <td>40562</td>\n",
       "      <td>1667235508</td>\n",
       "    </tr>\n",
       "    <tr>\n",
       "      <th>...</th>\n",
       "      <td>...</td>\n",
       "      <td>...</td>\n",
       "    </tr>\n",
       "    <tr>\n",
       "      <th>335985</th>\n",
       "      <td>40252</td>\n",
       "      <td>1667293925</td>\n",
       "    </tr>\n",
       "    <tr>\n",
       "      <th>335986</th>\n",
       "      <td>40000</td>\n",
       "      <td>1667293926</td>\n",
       "    </tr>\n",
       "    <tr>\n",
       "      <th>335987</th>\n",
       "      <td>40000</td>\n",
       "      <td>1667293927</td>\n",
       "    </tr>\n",
       "    <tr>\n",
       "      <th>335988</th>\n",
       "      <td>40000</td>\n",
       "      <td>1667293928</td>\n",
       "    </tr>\n",
       "    <tr>\n",
       "      <th>335989</th>\n",
       "      <td>40000</td>\n",
       "      <td>1667293929</td>\n",
       "    </tr>\n",
       "  </tbody>\n",
       "</table>\n",
       "<p>335990 rows × 2 columns</p>\n",
       "</div>"
      ],
      "text/plain": [
       "        40000  1667235506\n",
       "0       40000  1667235507\n",
       "1          20  1667235507\n",
       "2          20  1667235508\n",
       "3          20  1667235508\n",
       "4       40562  1667235508\n",
       "...       ...         ...\n",
       "335985  40252  1667293925\n",
       "335986  40000  1667293926\n",
       "335987  40000  1667293927\n",
       "335988  40000  1667293928\n",
       "335989  40000  1667293929\n",
       "\n",
       "[335990 rows x 2 columns]"
      ]
     },
     "execution_count": 83,
     "metadata": {},
     "output_type": "execute_result"
    }
   ],
   "source": [
    "muondf_trial1"
   ]
  },
  {
   "cell_type": "code",
   "execution_count": 85,
   "id": "7c476e30",
   "metadata": {},
   "outputs": [
    {
     "data": {
      "text/html": [
       "<div>\n",
       "<style scoped>\n",
       "    .dataframe tbody tr th:only-of-type {\n",
       "        vertical-align: middle;\n",
       "    }\n",
       "\n",
       "    .dataframe tbody tr th {\n",
       "        vertical-align: top;\n",
       "    }\n",
       "\n",
       "    .dataframe thead th {\n",
       "        text-align: right;\n",
       "    }\n",
       "</style>\n",
       "<table border=\"1\" class=\"dataframe\">\n",
       "  <thead>\n",
       "    <tr style=\"text-align: right;\">\n",
       "      <th></th>\n",
       "      <th>Muon Lifetime (μs)</th>\n",
       "      <th>Time since beginning (μs)</th>\n",
       "    </tr>\n",
       "  </thead>\n",
       "  <tbody>\n",
       "    <tr>\n",
       "      <th>1</th>\n",
       "      <td>0.02</td>\n",
       "      <td>1667235507</td>\n",
       "    </tr>\n",
       "    <tr>\n",
       "      <th>2</th>\n",
       "      <td>0.02</td>\n",
       "      <td>1667235508</td>\n",
       "    </tr>\n",
       "    <tr>\n",
       "      <th>3</th>\n",
       "      <td>0.02</td>\n",
       "      <td>1667235508</td>\n",
       "    </tr>\n",
       "    <tr>\n",
       "      <th>5</th>\n",
       "      <td>0.02</td>\n",
       "      <td>1667235509</td>\n",
       "    </tr>\n",
       "    <tr>\n",
       "      <th>6</th>\n",
       "      <td>0.02</td>\n",
       "      <td>1667235509</td>\n",
       "    </tr>\n",
       "    <tr>\n",
       "      <th>...</th>\n",
       "      <td>...</td>\n",
       "      <td>...</td>\n",
       "    </tr>\n",
       "    <tr>\n",
       "      <th>335978</th>\n",
       "      <td>0.02</td>\n",
       "      <td>1667293923</td>\n",
       "    </tr>\n",
       "    <tr>\n",
       "      <th>335980</th>\n",
       "      <td>0.02</td>\n",
       "      <td>1667293924</td>\n",
       "    </tr>\n",
       "    <tr>\n",
       "      <th>335981</th>\n",
       "      <td>0.02</td>\n",
       "      <td>1667293924</td>\n",
       "    </tr>\n",
       "    <tr>\n",
       "      <th>335983</th>\n",
       "      <td>0.02</td>\n",
       "      <td>1667293924</td>\n",
       "    </tr>\n",
       "    <tr>\n",
       "      <th>335984</th>\n",
       "      <td>0.02</td>\n",
       "      <td>1667293924</td>\n",
       "    </tr>\n",
       "  </tbody>\n",
       "</table>\n",
       "<p>278038 rows × 2 columns</p>\n",
       "</div>"
      ],
      "text/plain": [
       "        Muon Lifetime (μs)  Time since beginning (μs)\n",
       "1                     0.02                 1667235507\n",
       "2                     0.02                 1667235508\n",
       "3                     0.02                 1667235508\n",
       "5                     0.02                 1667235509\n",
       "6                     0.02                 1667235509\n",
       "...                    ...                        ...\n",
       "335978                0.02                 1667293923\n",
       "335980                0.02                 1667293924\n",
       "335981                0.02                 1667293924\n",
       "335983                0.02                 1667293924\n",
       "335984                0.02                 1667293924\n",
       "\n",
       "[278038 rows x 2 columns]"
      ]
     },
     "execution_count": 85,
     "metadata": {},
     "output_type": "execute_result"
    }
   ],
   "source": [
    "cleandata(muondf_trial1)"
   ]
  },
  {
   "cell_type": "code",
   "execution_count": 86,
   "id": "cc8925f6",
   "metadata": {},
   "outputs": [],
   "source": [
    "no_of_counts = muondf_trial1.groupby(['Muon Lifetime (μs)'], sort=False).size()"
   ]
  },
  {
   "cell_type": "code",
   "execution_count": 64,
   "id": "11c581c6",
   "metadata": {},
   "outputs": [
    {
     "data": {
      "text/plain": [
       "<BarContainer object of 3 artists>"
      ]
     },
     "execution_count": 64,
     "metadata": {},
     "output_type": "execute_result"
    },
    {
     "data": {
      "image/png": "[encoded data removed]",
      "text/plain": [
       "<Figure size 432x288 with 1 Axes>"
      ]
     },
     "metadata": {
      "needs_background": "light"
     },
     "output_type": "display_data"
    }
   ],
   "source": [
    "no_of_counts\n",
    "\n",
    "x = np.array([0.02,0.04,11.32])\n",
    "y = np.array([27000, 3208, 1])\n",
    "\n",
    "plt.bar(x, y, width=np.array([5, 5, 5]))"
   ]
  },
  {
   "cell_type": "markdown",
   "id": "209b27b4",
   "metadata": {},
   "source": [
    "### Plotting Muon Lifetime distribution"
   ]
  },
  {
   "cell_type": "code",
   "execution_count": 90,
   "id": "afdc74bc",
   "metadata": {},
   "outputs": [
    {
     "data": {
      "image/png": "[encoded data removed]",
      "text/plain": [
       "<Figure size 720x360 with 1 Axes>"
      ]
     },
     "metadata": {
      "needs_background": "light"
     },
     "output_type": "display_data"
    }
   ],
   "source": [
    "# creating the dataset\n",
    "data = {'0.02':27000, '0.04':3208, '11.32':1}\n",
    "courses = list(data.keys())\n",
    "values = list(data.values())\n",
    "  \n",
    "fig = plt.figure(figsize = (10, 5))\n",
    " \n",
    "# creating the bar plot\n",
    "plt.bar(courses, values, color ='maroon',\n",
    "        width = 0.5)\n",
    "plt.plot(courses, values, 'o')\n",
    "\n",
    "\n",
    "plt.xlabel(\"Lifetime\")\n",
    "plt.ylabel(\"Count\")\n",
    "plt.title(\"Lifetime against Count\")\n",
    "plt.show()"
   ]
  },
  {
   "cell_type": "markdown",
   "id": "41663a86",
   "metadata": {},
   "source": [
    "Above data suggests an error in method - since there are only three bins, indicating full data has not been taken. Repeat readings will be necessary."
   ]
  },
  {
   "cell_type": "code",
   "execution_count": 24,
   "id": "71717760",
   "metadata": {},
   "outputs": [
    {
     "ename": "TypeError",
     "evalue": "exp_decay() missing 3 required positional arguments: 'a', 'b', and 'c'",
     "output_type": "error",
     "traceback": [
      "\u001b[1;31m---------------------------------------------------------------------------\u001b[0m",
      "\u001b[1;31mTypeError\u001b[0m                                 Traceback (most recent call last)",
      "Input \u001b[1;32mIn [24]\u001b[0m, in \u001b[0;36m<cell line: 7>\u001b[1;34m()\u001b[0m\n\u001b[0;32m      4\u001b[0m     y \u001b[38;5;241m=\u001b[39m a\u001b[38;5;241m*\u001b[39mnp\u001b[38;5;241m.\u001b[39mexp(b\u001b[38;5;241m*\u001b[39mx) \u001b[38;5;241m+\u001b[39m c\n\u001b[0;32m      5\u001b[0m     \u001b[38;5;28;01mreturn\u001b[39;00m y\n\u001b[1;32m----> 7\u001b[0m parama, paramb, paramc, cov \u001b[38;5;241m=\u001b[39m \u001b[43mcurve_fit\u001b[49m\u001b[43m(\u001b[49m\u001b[43mexp_decay\u001b[49m\u001b[43m,\u001b[49m\u001b[43m \u001b[49m\u001b[43mx\u001b[49m\u001b[43m,\u001b[49m\u001b[43m \u001b[49m\u001b[43my\u001b[49m\u001b[43m,\u001b[49m\u001b[43m \u001b[49m\u001b[43mp0\u001b[49m\u001b[38;5;241;43m=\u001b[39;49m\u001b[43m[\u001b[49m\u001b[43m]\u001b[49m\u001b[43m)\u001b[49m\n",
      "File \u001b[1;32m~\\anaconda3\\lib\\site-packages\\scipy\\optimize\\minpack.py:789\u001b[0m, in \u001b[0;36mcurve_fit\u001b[1;34m(f, xdata, ydata, p0, sigma, absolute_sigma, check_finite, bounds, method, jac, **kwargs)\u001b[0m\n\u001b[0;32m    787\u001b[0m \u001b[38;5;66;03m# Remove full_output from kwargs, otherwise we're passing it in twice.\u001b[39;00m\n\u001b[0;32m    788\u001b[0m return_full \u001b[38;5;241m=\u001b[39m kwargs\u001b[38;5;241m.\u001b[39mpop(\u001b[38;5;124m'\u001b[39m\u001b[38;5;124mfull_output\u001b[39m\u001b[38;5;124m'\u001b[39m, \u001b[38;5;28;01mFalse\u001b[39;00m)\n\u001b[1;32m--> 789\u001b[0m res \u001b[38;5;241m=\u001b[39m leastsq(func, p0, Dfun\u001b[38;5;241m=\u001b[39mjac, full_output\u001b[38;5;241m=\u001b[39m\u001b[38;5;241m1\u001b[39m, \u001b[38;5;241m*\u001b[39m\u001b[38;5;241m*\u001b[39mkwargs)\n\u001b[0;32m    790\u001b[0m popt, pcov, infodict, errmsg, ier \u001b[38;5;241m=\u001b[39m res\n\u001b[0;32m    791\u001b[0m ysize \u001b[38;5;241m=\u001b[39m \u001b[38;5;28mlen\u001b[39m(infodict[\u001b[38;5;124m'\u001b[39m\u001b[38;5;124mfvec\u001b[39m\u001b[38;5;124m'\u001b[39m])\n",
      "File \u001b[1;32m~\\anaconda3\\lib\\site-packages\\scipy\\optimize\\minpack.py:410\u001b[0m, in \u001b[0;36mleastsq\u001b[1;34m(func, x0, args, Dfun, full_output, col_deriv, ftol, xtol, gtol, maxfev, epsfcn, factor, diag)\u001b[0m\n\u001b[0;32m    408\u001b[0m \u001b[38;5;28;01mif\u001b[39;00m \u001b[38;5;129;01mnot\u001b[39;00m \u001b[38;5;28misinstance\u001b[39m(args, \u001b[38;5;28mtuple\u001b[39m):\n\u001b[0;32m    409\u001b[0m     args \u001b[38;5;241m=\u001b[39m (args,)\n\u001b[1;32m--> 410\u001b[0m shape, dtype \u001b[38;5;241m=\u001b[39m \u001b[43m_check_func\u001b[49m\u001b[43m(\u001b[49m\u001b[38;5;124;43m'\u001b[39;49m\u001b[38;5;124;43mleastsq\u001b[39;49m\u001b[38;5;124;43m'\u001b[39;49m\u001b[43m,\u001b[49m\u001b[43m \u001b[49m\u001b[38;5;124;43m'\u001b[39;49m\u001b[38;5;124;43mfunc\u001b[39;49m\u001b[38;5;124;43m'\u001b[39;49m\u001b[43m,\u001b[49m\u001b[43m \u001b[49m\u001b[43mfunc\u001b[49m\u001b[43m,\u001b[49m\u001b[43m \u001b[49m\u001b[43mx0\u001b[49m\u001b[43m,\u001b[49m\u001b[43m \u001b[49m\u001b[43margs\u001b[49m\u001b[43m,\u001b[49m\u001b[43m \u001b[49m\u001b[43mn\u001b[49m\u001b[43m)\u001b[49m\n\u001b[0;32m    411\u001b[0m m \u001b[38;5;241m=\u001b[39m shape[\u001b[38;5;241m0\u001b[39m]\n\u001b[0;32m    413\u001b[0m \u001b[38;5;28;01mif\u001b[39;00m n \u001b[38;5;241m>\u001b[39m m:\n",
      "File \u001b[1;32m~\\anaconda3\\lib\\site-packages\\scipy\\optimize\\minpack.py:24\u001b[0m, in \u001b[0;36m_check_func\u001b[1;34m(checker, argname, thefunc, x0, args, numinputs, output_shape)\u001b[0m\n\u001b[0;32m     22\u001b[0m \u001b[38;5;28;01mdef\u001b[39;00m \u001b[38;5;21m_check_func\u001b[39m(checker, argname, thefunc, x0, args, numinputs,\n\u001b[0;32m     23\u001b[0m                 output_shape\u001b[38;5;241m=\u001b[39m\u001b[38;5;28;01mNone\u001b[39;00m):\n\u001b[1;32m---> 24\u001b[0m     res \u001b[38;5;241m=\u001b[39m atleast_1d(\u001b[43mthefunc\u001b[49m\u001b[43m(\u001b[49m\u001b[38;5;241;43m*\u001b[39;49m\u001b[43m(\u001b[49m\u001b[43m(\u001b[49m\u001b[43mx0\u001b[49m\u001b[43m[\u001b[49m\u001b[43m:\u001b[49m\u001b[43mnuminputs\u001b[49m\u001b[43m]\u001b[49m\u001b[43m,\u001b[49m\u001b[43m)\u001b[49m\u001b[43m \u001b[49m\u001b[38;5;241;43m+\u001b[39;49m\u001b[43m \u001b[49m\u001b[43margs\u001b[49m\u001b[43m)\u001b[49m\u001b[43m)\u001b[49m)\n\u001b[0;32m     25\u001b[0m     \u001b[38;5;28;01mif\u001b[39;00m (output_shape \u001b[38;5;129;01mis\u001b[39;00m \u001b[38;5;129;01mnot\u001b[39;00m \u001b[38;5;28;01mNone\u001b[39;00m) \u001b[38;5;129;01mand\u001b[39;00m (shape(res) \u001b[38;5;241m!=\u001b[39m output_shape):\n\u001b[0;32m     26\u001b[0m         \u001b[38;5;28;01mif\u001b[39;00m (output_shape[\u001b[38;5;241m0\u001b[39m] \u001b[38;5;241m!=\u001b[39m \u001b[38;5;241m1\u001b[39m):\n",
      "File \u001b[1;32m~\\anaconda3\\lib\\site-packages\\scipy\\optimize\\minpack.py:485\u001b[0m, in \u001b[0;36m_wrap_func.<locals>.func_wrapped\u001b[1;34m(params)\u001b[0m\n\u001b[0;32m    484\u001b[0m \u001b[38;5;28;01mdef\u001b[39;00m \u001b[38;5;21mfunc_wrapped\u001b[39m(params):\n\u001b[1;32m--> 485\u001b[0m     \u001b[38;5;28;01mreturn\u001b[39;00m \u001b[43mfunc\u001b[49m\u001b[43m(\u001b[49m\u001b[43mxdata\u001b[49m\u001b[43m,\u001b[49m\u001b[43m \u001b[49m\u001b[38;5;241;43m*\u001b[39;49m\u001b[43mparams\u001b[49m\u001b[43m)\u001b[49m \u001b[38;5;241m-\u001b[39m ydata\n",
      "\u001b[1;31mTypeError\u001b[0m: exp_decay() missing 3 required positional arguments: 'a', 'b', and 'c'"
     ]
    }
   ],
   "source": [
    "from scipy.optimize import curve_fit\n",
    "\n",
    "def exp_decay(x, a, b, c):\n",
    "    y = a*np.exp(b*x) + c\n",
    "    return y\n",
    "\n",
    "parama, paramb, paramc, cov = curve_fit(exp_decay, x, y, p0=[])"
   ]
  },
  {
   "cell_type": "code",
   "execution_count": null,
   "id": "fd16db7d",
   "metadata": {},
   "outputs": [],
   "source": []
  }
 ],
 "metadata": {
  "kernelspec": {
   "display_name": "Python 3 (ipykernel)",
   "language": "python",
   "name": "python3"
  },
  "language_info": {
   "codemirror_mode": {
    "name": "ipython",
    "version": 3
   },
   "file_extension": ".py",
   "mimetype": "text/x-python",
   "name": "python",
   "nbconvert_exporter": "python",
   "pygments_lexer": "ipython3",
   "version": "3.9.12"
  }
 },
 "nbformat": 4,
 "nbformat_minor": 5
}
